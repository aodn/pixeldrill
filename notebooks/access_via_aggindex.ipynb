{
 "cells": [
  {
   "cell_type": "markdown",
   "id": "9d1b04cf",
   "metadata": {},
   "source": [
    "# Notebook to test loading the aggregated references"
   ]
  },
  {
   "cell_type": "code",
   "execution_count": 1,
   "id": "15f4b96f",
   "metadata": {},
   "outputs": [],
   "source": [
    "import sys\n",
    "\n",
    "#Ensure latest version of fsspec is used to allow simpletemplate=True of reference file system\n",
    "sys.path.insert(0,'/home/jovyan/filesystem_spec')"
   ]
  },
  {
   "cell_type": "code",
   "execution_count": 2,
   "id": "e30222b4",
   "metadata": {},
   "outputs": [],
   "source": [
    "import fsspec\n",
    "import xarray as xr\n",
    "import os, glob"
   ]
  },
  {
   "cell_type": "code",
   "execution_count": 3,
   "id": "fb663baa",
   "metadata": {},
   "outputs": [
    {
     "data": {
      "text/plain": [
       "'/home/jovyan/filesystem_spec/fsspec/__init__.py'"
      ]
     },
     "execution_count": 3,
     "metadata": {},
     "output_type": "execute_result"
    }
   ],
   "source": [
    "fsspec.__file__"
   ]
  },
  {
   "cell_type": "code",
   "execution_count": 4,
   "id": "6b0a0a80",
   "metadata": {},
   "outputs": [
    {
     "name": "stdout",
     "output_type": "stream",
     "text": [
      "Creating new cluster. Please wait for this to finish.\n"
     ]
    },
    {
     "data": {
      "application/vnd.jupyter.widget-view+json": {
       "model_id": "7636095e45bf46aaa31df5d7e8456a6b",
       "version_major": 2,
       "version_minor": 0
      },
      "text/plain": [
       "VBox(children=(HTML(value='<h2>GatewayCluster</h2>'), HBox(children=(HTML(value='\\n<div>\\n<style scoped>\\n    …"
      ]
     },
     "metadata": {},
     "output_type": "display_data"
    },
    {
     "data": {
      "text/html": [
       "<table style=\"border: 2px solid white;\">\n",
       "<tr>\n",
       "<td style=\"vertical-align: top; border: 0px solid white\">\n",
       "<h3 style=\"text-align: left;\">Client</h3>\n",
       "<ul style=\"text-align: left; list-style: none; margin: 0; padding: 0;\">\n",
       "  <li><b>Scheduler: </b>gateway://traefik-dask-gateway.easihub:80/easihub.f0cb1ff40a9e491c8e36b27ba823f071</li>\n",
       "  <li><b>Dashboard: </b><a href='https://hub.csiro.easi-eo.solutions/services/dask-gateway/clusters/easihub.f0cb1ff40a9e491c8e36b27ba823f071/status' target='_blank'>https://hub.csiro.easi-eo.solutions/services/dask-gateway/clusters/easihub.f0cb1ff40a9e491c8e36b27ba823f071/status</a></li>\n",
       "</ul>\n",
       "</td>\n",
       "<td style=\"vertical-align: top; border: 0px solid white\">\n",
       "<h3 style=\"text-align: left;\">Cluster</h3>\n",
       "<ul style=\"text-align: left; list-style:none; margin: 0; padding: 0;\">\n",
       "  <li><b>Workers: </b>180</li>\n",
       "  <li><b>Cores: </b>180</li>\n",
       "  <li><b>Memory: </b>193.27 GB</li>\n",
       "</ul>\n",
       "</td>\n",
       "</tr>\n",
       "</table>"
      ],
      "text/plain": [
       "<Client: 'tls://10.0.49.166:8786' processes=179 threads=179, memory=192.20 GB>"
      ]
     },
     "metadata": {},
     "output_type": "display_data"
    }
   ],
   "source": [
    "gateway_cluster = True\n",
    "from dask.distributed import Client, LocalCluster\n",
    "from dask_gateway import Gateway\n",
    "\n",
    "# Dask gateway\n",
    "if gateway_cluster:\n",
    "    gateway = Gateway()\n",
    "    clusters = gateway.list_clusters()\n",
    "    if not clusters:\n",
    "        print('Creating new cluster. Please wait for this to finish.')\n",
    "        options = gateway.cluster_options()\n",
    "        options.worker_cores = 1\n",
    "        options.worker_memory = 1.0\n",
    "        cluster = gateway.new_cluster(cluster_options=options)\n",
    "    else:\n",
    "        print(f'An existing cluster was found. Connected to cluster \\033[1m{clusters[0].name}\\033[0m')\n",
    "        cluster=gateway.connect(clusters[0].name)\n",
    "#     cluster.adapt(minimum=1, maximum=30)\n",
    "    cluster.scale(180)\n",
    "    client = cluster.get_client()\n",
    "    client.wait_for_workers(n_workers=180)\n",
    "\n",
    "# Local cluster\n",
    "else:\n",
    "    cluster = LocalCluster()\n",
    "    client = Client(cluster)\n",
    "\n",
    "display(cluster)\n",
    "display(client)"
   ]
  },
  {
   "cell_type": "markdown",
   "id": "5a3329ca",
   "metadata": {},
   "source": [
    "## Opening the full stack in a delayed fashion is too slow (too many chunks for dask to compose) - need to subset and load each month using a different (single) thread"
   ]
  },
  {
   "cell_type": "code",
   "execution_count": 5,
   "id": "57599fb9",
   "metadata": {},
   "outputs": [],
   "source": [
    "def open_and_crop(fo,\n",
    "                  storage_options=dict(anon=True),\n",
    "                  data_vars=['sea_surface_temperature','l2p_flags'],\n",
    "                  cropto=dict(lat=slice(-32.0,-32.5),lon=slice(115.0,115.5)),\n",
    "                  load=True,\n",
    "                  simple_templates=True):\n",
    "    \n",
    "    mapper=fsspec.get_mapper('reference://',\n",
    "                         fo=fo,\n",
    "                         target_options=storage_options,\n",
    "                         remote_protocol='s3',\n",
    "                         remote_options=storage_options,\n",
    "                        )\n",
    "    ds = xr.open_zarr(mapper,chunks={'time':14})   \n",
    "\n",
    "    ds = ds[data_vars]\n",
    "    ds = ds.sel(**cropto)\n",
    "    \n",
    "    #Loading the data at this point causes issues with dask, due to task nesting - works OK using single-threaded, which makes sense\n",
    "    if load:\n",
    "        import dask\n",
    "        with dask.config.set(scheduler='single-threaded'):\n",
    "            try:\n",
    "                ds = ds.load() #loads this months data\n",
    "            except Exception as ex:\n",
    "                print('Load Failed: ' + fo)\n",
    "                return None\n",
    "    \n",
    "    return ds"
   ]
  },
  {
   "cell_type": "code",
   "execution_count": 6,
   "id": "1f7d897c",
   "metadata": {},
   "outputs": [],
   "source": [
    "def open_stack(s3_path,\n",
    "               extension='json',\n",
    "               storage_options=dict(anon=True),\n",
    "               open_func=open_and_crop,\n",
    "               open_kwargs={}):\n",
    "    \n",
    "    # Get the list of reference files\n",
    "    fs = fsspec.filesystem('s3',**storage_options)\n",
    "    agg_files = fs.glob(f'{s3_path}/*.{extension}')\n",
    "    \n",
    "    open_kwargs['storage_options']=storage_options\n",
    "    \n",
    "    from dask import compute, delayed\n",
    "    d_open_dataset = delayed(open_func)\n",
    "    futures = []\n",
    "    for f in agg_files:\n",
    "        futures.append(d_open_dataset('s3://' + f,**open_kwargs))\n",
    "    dsets = compute(futures)[0]\n",
    "    \n",
    "    for i,ds in enumerate(dsets):\n",
    "        if ds is None:\n",
    "            print('Failed to open: ' + agg_files[i])\n",
    "            \n",
    "    dsets = [ds for ds in dsets if ds is not None]\n",
    "    \n",
    "    xarray_concat_kwargs = dict(dim='time',coords='minimal',join='override',compat='override',combine_attrs='override')\n",
    "    ds = xr.concat(dsets, **xarray_concat_kwargs)\n",
    "    ds = ds.sortby('time') # The sort is beneficial to re-order the data according to the coordinate, as having separate stacks for the different layouts breaks the ordering.\n",
    "    \n",
    "    return ds"
   ]
  },
  {
   "cell_type": "code",
   "execution_count": 7,
   "id": "4c4f35f8",
   "metadata": {},
   "outputs": [],
   "source": [
    "# Load credentials\n",
    "def load_creds():\n",
    "    with open(os.environ['HOME'] + '/.aws/credentials','rt') as f:\n",
    "        f.readline()\n",
    "        key=f.readline().split('=')[1].strip()\n",
    "        secret=f.readline().split('=')[1].strip()\n",
    "    return key, secret\n",
    "key,secret=load_creds()"
   ]
  },
  {
   "cell_type": "markdown",
   "id": "b0a6b8a0",
   "metadata": {},
   "source": [
    "### Monthly aggregates - load eagerly"
   ]
  },
  {
   "cell_type": "markdown",
   "id": "d0ae063e",
   "metadata": {},
   "source": [
    "#### Single point"
   ]
  },
  {
   "cell_type": "code",
   "execution_count": 8,
   "id": "b72c421d",
   "metadata": {},
   "outputs": [
    {
     "name": "stdout",
     "output_type": "stream",
     "text": [
      "CPU times: user 764 ms, sys: 24.8 ms, total: 789 ms\n",
      "Wall time: 13.6 s\n"
     ]
    }
   ],
   "source": [
    "%%time\n",
    "ds = open_stack('imos-data-pixeldrill-refs/IMOS/SRS/SST/ghrsst/L3S-1d/ngt/agg_monthly/',\n",
    "                extension='json',\n",
    "                open_func=open_and_crop,\n",
    "                storage_options=dict(key=key,secret=secret),\n",
    "                open_kwargs=dict(load=True,simple_templates=True,cropto=dict(lat=-32.,lon=115,method='nearest')))"
   ]
  },
  {
   "cell_type": "code",
   "execution_count": 9,
   "id": "a8abaf63",
   "metadata": {},
   "outputs": [
    {
     "name": "stdout",
     "output_type": "stream",
     "text": [
      "CPU times: user 621 ms, sys: 28.7 ms, total: 650 ms\n",
      "Wall time: 12 s\n"
     ]
    }
   ],
   "source": [
    "%%time\n",
    "ds = open_stack('imos-data-pixeldrill-refs/IMOS/SRS/SST/ghrsst/L3S-1d/ngt/agg_monthly/',\n",
    "                extension='zarr',\n",
    "                open_func=open_and_crop,\n",
    "                storage_options=dict(key=key,secret=secret),\n",
    "                open_kwargs=dict(load=True,simple_templates=True,cropto=dict(lat=-32.,lon=115,method='nearest')))"
   ]
  },
  {
   "cell_type": "code",
   "execution_count": 10,
   "id": "6fe3093f",
   "metadata": {},
   "outputs": [
    {
     "data": {
      "text/plain": [
       "[<matplotlib.lines.Line2D at 0x7f77ea14ef40>]"
      ]
     },
     "execution_count": 10,
     "metadata": {},
     "output_type": "execute_result"
    },
    {
     "data": {
      "image/png": "[encoded data removed]",
      "text/plain": [
       "<Figure size 432x288 with 1 Axes>"
      ]
     },
     "metadata": {
      "needs_background": "light"
     },
     "output_type": "display_data"
    }
   ],
   "source": [
    "ds.sea_surface_temperature.plot()"
   ]
  },
  {
   "cell_type": "markdown",
   "id": "1c0eb539",
   "metadata": {},
   "source": [
    "#### 50km area"
   ]
  },
  {
   "cell_type": "code",
   "execution_count": 8,
   "id": "26041bff",
   "metadata": {},
   "outputs": [
    {
     "name": "stdout",
     "output_type": "stream",
     "text": [
      "CPU times: user 1.2 s, sys: 185 ms, total: 1.39 s\n",
      "Wall time: 17.9 s\n"
     ]
    }
   ],
   "source": [
    "%%time\n",
    "ds = open_stack('imos-data-pixeldrill-refs/IMOS/SRS/SST/ghrsst/L3S-1d/ngt/agg_monthly/',\n",
    "                extension='json',\n",
    "                open_func=open_and_crop,\n",
    "                storage_options=dict(key=key,secret=secret),\n",
    "                open_kwargs=dict(load=True,\n",
    "                                 simple_templates=True,\n",
    "                                 cropto=dict(lat=slice(-32.0,-32.5),lon=slice(115.0,115.5))))"
   ]
  },
  {
   "cell_type": "code",
   "execution_count": 10,
   "id": "23d1552a",
   "metadata": {},
   "outputs": [
    {
     "name": "stdout",
     "output_type": "stream",
     "text": [
      "CPU times: user 767 ms, sys: 99.2 ms, total: 867 ms\n",
      "Wall time: 12.7 s\n"
     ]
    }
   ],
   "source": [
    "%%time\n",
    "ds = open_stack('imos-data-pixeldrill-refs/IMOS/SRS/SST/ghrsst/L3S-1d/ngt/agg_monthly/',\n",
    "                extension='zarr',\n",
    "                open_func=open_and_crop,\n",
    "                storage_options=dict(key=key,secret=secret),\n",
    "                open_kwargs=dict(load=True,\n",
    "                                 simple_templates=True,\n",
    "                                 cropto=dict(lat=slice(-32.0,-32.5),lon=slice(115.0,115.5))))"
   ]
  },
  {
   "cell_type": "code",
   "execution_count": 13,
   "id": "2d6abe89",
   "metadata": {},
   "outputs": [
    {
     "data": {
      "text/html": [
       "<pre>&lt;xarray.Dataset&gt;\n",
       "Dimensions:                  (lat: 25, lon: 25, time: 10576)\n",
       "Coordinates:\n",
       "  * lat                      (lat) float32 -32.01 -32.03 ... -32.47 -32.49\n",
       "  * lon                      (lon) float32 115.0 115.0 115.1 ... 115.5 115.5\n",
       "  * time                     (time) datetime64[ns] 1992-03-21T15:20:00 ... 20...\n",
       "Data variables:\n",
       "    sea_surface_temperature  (time, lat, lon) float32 nan nan ... 291.3 290.6\n",
       "    l2p_flags                (time, lat, lon) float32 nan nan ... 8.192e+03\n",
       "Attributes: (12/50)\n",
       "    Conventions:                      CF-1.6\n",
       "    Metadata_Conventions:             Unidata Dataset Discovery v1.0\n",
       "    Metadata_Link:                    TBA\n",
       "    acknowledgment:                   Any use of these data requires the foll...\n",
       "    cdm_data_type:                    grid\n",
       "    comment:                          HRPT AVHRR experimental L3 retrieval pr...\n",
       "    ...                               ...\n",
       "    summary:                          Skin SST retrievals produced from stitc...\n",
       "    time_coverage_end:                19920321T141620Z\n",
       "    time_coverage_start:              19920321T055557Z\n",
       "    title:                            IMOS L3S Nighttime gridded multiple-sen...\n",
       "    uuid:                             1f323c53-8d93-4bb4-a633-49622aa4e497\n",
       "    westernmost_longitude:            70.01000213623047</pre>"
      ],
      "text/plain": [
       "<xarray.Dataset>\n",
       "Dimensions:                  (lat: 25, lon: 25, time: 10576)\n",
       "Coordinates:\n",
       "  * lat                      (lat) float32 -32.01 -32.03 ... -32.47 -32.49\n",
       "  * lon                      (lon) float32 115.0 115.0 115.1 ... 115.5 115.5\n",
       "  * time                     (time) datetime64[ns] 1992-03-21T15:20:00 ... 20...\n",
       "Data variables:\n",
       "    sea_surface_temperature  (time, lat, lon) float32 nan nan ... 291.3 290.6\n",
       "    l2p_flags                (time, lat, lon) float32 nan nan ... 8.192e+03\n",
       "Attributes: (12/50)\n",
       "    Conventions:                      CF-1.6\n",
       "    Metadata_Conventions:             Unidata Dataset Discovery v1.0\n",
       "    Metadata_Link:                    TBA\n",
       "    acknowledgment:                   Any use of these data requires the foll...\n",
       "    cdm_data_type:                    grid\n",
       "    comment:                          HRPT AVHRR experimental L3 retrieval pr...\n",
       "    ...                               ...\n",
       "    summary:                          Skin SST retrievals produced from stitc...\n",
       "    time_coverage_end:                19920321T141620Z\n",
       "    time_coverage_start:              19920321T055557Z\n",
       "    title:                            IMOS L3S Nighttime gridded multiple-sen...\n",
       "    uuid:                             1f323c53-8d93-4bb4-a633-49622aa4e497\n",
       "    westernmost_longitude:            70.01000213623047"
      ]
     },
     "execution_count": 13,
     "metadata": {},
     "output_type": "execute_result"
    }
   ],
   "source": [
    "xr.set_options(display_style='text')\n",
    "ds"
   ]
  },
  {
   "cell_type": "code",
   "execution_count": 14,
   "id": "acb541f8",
   "metadata": {},
   "outputs": [
    {
     "data": {
      "text/plain": [
       "[<matplotlib.lines.Line2D at 0x7fb05a60fa00>]"
      ]
     },
     "execution_count": 14,
     "metadata": {},
     "output_type": "execute_result"
    },
    {
     "data": {
      "image/png": "[encoded data removed]",
      "text/plain": [
       "<Figure size 432x288 with 1 Axes>"
      ]
     },
     "metadata": {
      "needs_background": "light"
     },
     "output_type": "display_data"
    }
   ],
   "source": [
    "ds.sea_surface_temperature.stack(space=['lon','lat']).mean(dim='space').plot()"
   ]
  },
  {
   "cell_type": "code",
   "execution_count": 15,
   "id": "d097b572",
   "metadata": {},
   "outputs": [
    {
     "data": {
      "text/plain": [
       "<matplotlib.collections.QuadMesh at 0x7fb053d7d160>"
      ]
     },
     "execution_count": 15,
     "metadata": {},
     "output_type": "execute_result"
    },
    {
     "data": {
      "image/png": "[encoded data removed]",
      "text/plain": [
       "<Figure size 432x288 with 2 Axes>"
      ]
     },
     "metadata": {
      "needs_background": "light"
     },
     "output_type": "display_data"
    }
   ],
   "source": [
    "ds.sea_surface_temperature.mean(dim='time').plot()"
   ]
  },
  {
   "cell_type": "markdown",
   "id": "ac205e2f",
   "metadata": {},
   "source": [
    "### Monthly aggregates - open delayed and load distributed - slower"
   ]
  },
  {
   "cell_type": "code",
   "execution_count": 16,
   "id": "908dabff",
   "metadata": {},
   "outputs": [
    {
     "name": "stdout",
     "output_type": "stream",
     "text": [
      "CPU times: user 18 s, sys: 649 ms, total: 18.7 s\n",
      "Wall time: 1min 31s\n"
     ]
    }
   ],
   "source": [
    "%%time\n",
    "ds = open_stack('imos-data-pixeldrill-refs/IMOS/SRS/SST/ghrsst/L3S-1d/ngt/agg_monthly/',\n",
    "                open_func=open_and_crop,\n",
    "                storage_options=dict(key=key,secret=secret),\n",
    "                open_kwargs=dict(load=False,simple_templates=True))\n",
    "ds = ds.chunk({'time':28})\n",
    "# The graph is big, so takes the notebook and scheduler time to move around, much quicker to load eagerly the small payload\n",
    "ds = ds.load()"
   ]
  },
  {
   "cell_type": "markdown",
   "id": "3e0511d0",
   "metadata": {},
   "source": [
    "### Yearly aggregates - load eagerly - all slower\n",
    "the large number templates means lots of time spent in str/jinja ops"
   ]
  },
  {
   "cell_type": "code",
   "execution_count": 17,
   "id": "031b04f6",
   "metadata": {},
   "outputs": [
    {
     "name": "stdout",
     "output_type": "stream",
     "text": [
      "CPU times: user 126 ms, sys: 9.89 ms, total: 136 ms\n",
      "Wall time: 42.6 s\n"
     ]
    }
   ],
   "source": [
    "%%time\n",
    "ds = open_stack('imos-data-pixeldrill-refs/IMOS/SRS/SST/ghrsst/L3S-1d/ngt/agg_yearly/',\n",
    "                extension='json',\n",
    "                open_func=open_and_crop,\n",
    "                storage_options=dict(key=key,secret=secret),\n",
    "                open_kwargs=dict(load=True,simple_templates=True,cropto=dict(lat=-32.,lon=115,method='nearest')))"
   ]
  },
  {
   "cell_type": "code",
   "execution_count": 18,
   "id": "ef628786",
   "metadata": {},
   "outputs": [
    {
     "name": "stdout",
     "output_type": "stream",
     "text": [
      "CPU times: user 221 ms, sys: 96.5 ms, total: 317 ms\n",
      "Wall time: 41.7 s\n"
     ]
    }
   ],
   "source": [
    "%%time\n",
    "ds = open_stack('imos-data-pixeldrill-refs/IMOS/SRS/SST/ghrsst/L3S-1d/ngt/agg_yearly/',\n",
    "                extension='json',\n",
    "                open_func=open_and_crop,\n",
    "                storage_options=dict(key=key,secret=secret),\n",
    "                open_kwargs=dict(load=True,\n",
    "                                 simple_templates=True,\n",
    "                                 cropto=dict(lat=slice(-32.0,-32.5),lon=slice(115.0,115.5))))"
   ]
  },
  {
   "cell_type": "code",
   "execution_count": 11,
   "id": "610818b8",
   "metadata": {},
   "outputs": [
    {
     "name": "stdout",
     "output_type": "stream",
     "text": [
      "CPU times: user 257 ms, sys: 70 ms, total: 327 ms\n",
      "Wall time: 36.6 s\n"
     ]
    }
   ],
   "source": [
    "%%time\n",
    "ds = open_stack('imos-data-pixeldrill-refs/IMOS/SRS/SST/ghrsst/L3S-1d/ngt/agg_yearly/',\n",
    "                extension='zarr',\n",
    "                open_func=open_and_crop,\n",
    "                storage_options=dict(key=key,secret=secret),\n",
    "                open_kwargs=dict(load=True,\n",
    "                                 cropto=dict(lat=slice(-32.0,-32.5),lon=slice(115.0,115.5))))"
   ]
  },
  {
   "cell_type": "markdown",
   "id": "483b5d63",
   "metadata": {},
   "source": [
    "### Yearly aggregates - open delayed and load distributed - slower"
   ]
  },
  {
   "cell_type": "code",
   "execution_count": 11,
   "id": "813984e0",
   "metadata": {},
   "outputs": [
    {
     "name": "stdout",
     "output_type": "stream",
     "text": [
      "CPU times: user 42.9 s, sys: 765 ms, total: 43.6 s\n",
      "Wall time: 3min 19s\n"
     ]
    }
   ],
   "source": [
    "%%time\n",
    "ds = open_stack('imos-data-pixeldrill-refs/IMOS/SRS/SST/ghrsst/L3S-1d/ngt/agg_yearly/',\n",
    "                extension='zarr',\n",
    "                open_func=open_and_crop,\n",
    "                storage_options=dict(key=key,secret=secret),\n",
    "                open_kwargs=dict(load=False,\n",
    "                                 cropto=dict(lat=slice(-32.0,-32.5),lon=slice(115.0,115.5))))\n",
    "ds = ds.load()"
   ]
  },
  {
   "cell_type": "code",
   "execution_count": 20,
   "id": "89899605",
   "metadata": {},
   "outputs": [],
   "source": [
    "cluster.shutdown()"
   ]
  },
  {
   "cell_type": "code",
   "execution_count": null,
   "id": "31f7c342",
   "metadata": {},
   "outputs": [],
   "source": []
  }
 ],
 "metadata": {
  "kernelspec": {
   "display_name": "Python 3",
   "language": "python",
   "name": "python3"
  },
  "language_info": {
   "codemirror_mode": {
    "name": "ipython",
    "version": 3
   },
   "file_extension": ".py",
   "mimetype": "text/x-python",
   "name": "python",
   "nbconvert_exporter": "python",
   "pygments_lexer": "ipython3",
   "version": "3.8.5"
  }
 },
 "nbformat": 4,
 "nbformat_minor": 5
}
