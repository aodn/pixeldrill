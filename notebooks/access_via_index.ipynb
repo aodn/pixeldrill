{
 "cells": [
  {
   "cell_type": "markdown",
   "metadata": {},
   "source": [
    "# Benchmark a year pixel drill"
   ]
  },
  {
   "cell_type": "code",
   "execution_count": 1,
   "metadata": {},
   "outputs": [],
   "source": [
    "import dask.bag as db\n",
    "import dask\n",
    "from dask.diagnostics import ProgressBar\n",
    "from dask.diagnostics import Profiler, ResourceProfiler, CacheProfiler, visualize"
   ]
  },
  {
   "cell_type": "code",
   "execution_count": 2,
   "metadata": {},
   "outputs": [],
   "source": [
    "import xarray as xr\n",
    "import fsspec\n",
    "import glob\n",
    "xr.set_options(display_style='text');"
   ]
  },
  {
   "cell_type": "code",
   "execution_count": 3,
   "metadata": {},
   "outputs": [
    {
     "data": {
      "text/plain": [
       "326"
      ]
     },
     "execution_count": 3,
     "metadata": {},
     "output_type": "execute_result"
    }
   ],
   "source": [
    "references = sorted(glob.glob('./refs/2020*_night.json'))\n",
    "len(references)"
   ]
  },
  {
   "cell_type": "code",
   "execution_count": 4,
   "metadata": {},
   "outputs": [],
   "source": [
    "def open_zarr(r):\n",
    "    m = fsspec.get_mapper(\"reference://\", \n",
    "                              remote_protocol='s3',\n",
    "                    fo=r, remote_options={'anon':True,'skip_instance_cache':True,'use_listings_cache':False})\n",
    "    ds = xr.open_zarr(m)\n",
    "    return ds"
   ]
  },
  {
   "cell_type": "code",
   "execution_count": 5,
   "metadata": {},
   "outputs": [
    {
     "name": "stdout",
     "output_type": "stream",
     "text": [
      "[########################################] | 100% Completed | 60.0s\n"
     ]
    }
   ],
   "source": [
    "b = db.from_sequence(references,npartitions=36)\n",
    "zarrs = b.map(open_zarr)\n",
    "with dask.config.set(scheduler='processes'): \n",
    "    with ProgressBar(), Profiler() as prof, ResourceProfiler(dt=0.25) as rprof:\n",
    "        zarrs = zarrs.compute()"
   ]
  },
  {
   "cell_type": "code",
   "execution_count": 6,
   "metadata": {},
   "outputs": [
    {
     "data": {
      "text/html": [
       "<div style=\"display: table;\"><div style=\"display: table-row;\"><div style=\"display: table-cell;\"><b title=\"bokeh.models.layouts.Column\">Column</b>(</div><div style=\"display: table-cell;\">id&nbsp;=&nbsp;'1125', <span id=\"1471\" style=\"cursor: pointer;\">&hellip;)</span></div></div><div class=\"1470\" style=\"display: none;\"><div style=\"display: table-cell;\"></div><div style=\"display: table-cell;\">align&nbsp;=&nbsp;'start',</div></div><div class=\"1470\" style=\"display: none;\"><div style=\"display: table-cell;\"></div><div style=\"display: table-cell;\">aspect_ratio&nbsp;=&nbsp;None,</div></div><div class=\"1470\" style=\"display: none;\"><div style=\"display: table-cell;\"></div><div style=\"display: table-cell;\">background&nbsp;=&nbsp;None,</div></div><div class=\"1470\" style=\"display: none;\"><div style=\"display: table-cell;\"></div><div style=\"display: table-cell;\">children&nbsp;=&nbsp;[ToolbarBox(id='1124', ...), GridBox(id='1122', ...)],</div></div><div class=\"1470\" style=\"display: none;\"><div style=\"display: table-cell;\"></div><div style=\"display: table-cell;\">css_classes&nbsp;=&nbsp;[],</div></div><div class=\"1470\" style=\"display: none;\"><div style=\"display: table-cell;\"></div><div style=\"display: table-cell;\">disabled&nbsp;=&nbsp;False,</div></div><div class=\"1470\" style=\"display: none;\"><div style=\"display: table-cell;\"></div><div style=\"display: table-cell;\">height&nbsp;=&nbsp;None,</div></div><div class=\"1470\" style=\"display: none;\"><div style=\"display: table-cell;\"></div><div style=\"display: table-cell;\">height_policy&nbsp;=&nbsp;'auto',</div></div><div class=\"1470\" style=\"display: none;\"><div style=\"display: table-cell;\"></div><div style=\"display: table-cell;\">js_event_callbacks&nbsp;=&nbsp;{},</div></div><div class=\"1470\" style=\"display: none;\"><div style=\"display: table-cell;\"></div><div style=\"display: table-cell;\">js_property_callbacks&nbsp;=&nbsp;{},</div></div><div class=\"1470\" style=\"display: none;\"><div style=\"display: table-cell;\"></div><div style=\"display: table-cell;\">margin&nbsp;=&nbsp;(0, 0, 0, 0),</div></div><div class=\"1470\" style=\"display: none;\"><div style=\"display: table-cell;\"></div><div style=\"display: table-cell;\">max_height&nbsp;=&nbsp;None,</div></div><div class=\"1470\" style=\"display: none;\"><div style=\"display: table-cell;\"></div><div style=\"display: table-cell;\">max_width&nbsp;=&nbsp;None,</div></div><div class=\"1470\" style=\"display: none;\"><div style=\"display: table-cell;\"></div><div style=\"display: table-cell;\">min_height&nbsp;=&nbsp;None,</div></div><div class=\"1470\" style=\"display: none;\"><div style=\"display: table-cell;\"></div><div style=\"display: table-cell;\">min_width&nbsp;=&nbsp;None,</div></div><div class=\"1470\" style=\"display: none;\"><div style=\"display: table-cell;\"></div><div style=\"display: table-cell;\">name&nbsp;=&nbsp;None,</div></div><div class=\"1470\" style=\"display: none;\"><div style=\"display: table-cell;\"></div><div style=\"display: table-cell;\">rows&nbsp;=&nbsp;'auto',</div></div><div class=\"1470\" style=\"display: none;\"><div style=\"display: table-cell;\"></div><div style=\"display: table-cell;\">sizing_mode&nbsp;=&nbsp;None,</div></div><div class=\"1470\" style=\"display: none;\"><div style=\"display: table-cell;\"></div><div style=\"display: table-cell;\">spacing&nbsp;=&nbsp;0,</div></div><div class=\"1470\" style=\"display: none;\"><div style=\"display: table-cell;\"></div><div style=\"display: table-cell;\">subscribed_events&nbsp;=&nbsp;[],</div></div><div class=\"1470\" style=\"display: none;\"><div style=\"display: table-cell;\"></div><div style=\"display: table-cell;\">tags&nbsp;=&nbsp;[],</div></div><div class=\"1470\" style=\"display: none;\"><div style=\"display: table-cell;\"></div><div style=\"display: table-cell;\">visible&nbsp;=&nbsp;True,</div></div><div class=\"1470\" style=\"display: none;\"><div style=\"display: table-cell;\"></div><div style=\"display: table-cell;\">width&nbsp;=&nbsp;None,</div></div><div class=\"1470\" style=\"display: none;\"><div style=\"display: table-cell;\"></div><div style=\"display: table-cell;\">width_policy&nbsp;=&nbsp;'auto')</div></div></div>\n",
       "<script>\n",
       "(function() {\n",
       "  var expanded = false;\n",
       "  var ellipsis = document.getElementById(\"1471\");\n",
       "  ellipsis.addEventListener(\"click\", function() {\n",
       "    var rows = document.getElementsByClassName(\"1470\");\n",
       "    for (var i = 0; i < rows.length; i++) {\n",
       "      var el = rows[i];\n",
       "      el.style.display = expanded ? \"none\" : \"table-row\";\n",
       "    }\n",
       "    ellipsis.innerHTML = expanded ? \"&hellip;)\" : \"&lsaquo;&lsaquo;&lsaquo;\";\n",
       "    expanded = !expanded;\n",
       "  });\n",
       "})();\n",
       "</script>\n"
      ],
      "text/plain": [
       "Column(id='1125', ...)"
      ]
     },
     "execution_count": 6,
     "metadata": {},
     "output_type": "execute_result"
    }
   ],
   "source": [
    "# view profiler results (creates profile.html)\n",
    "visualize([prof, rprof])"
   ]
  },
  {
   "cell_type": "code",
   "execution_count": 7,
   "metadata": {},
   "outputs": [],
   "source": [
    "zarrs = [z.drop_vars(['sea_ice_fraction', 'sea_ice_fraction_dtime_from_sst'], errors='ignore') for z in zarrs]"
   ]
  },
  {
   "cell_type": "code",
   "execution_count": 8,
   "metadata": {},
   "outputs": [],
   "source": [
    "## %%time\n",
    "ds = xr.concat(zarrs,dim='time',coords='minimal',compat='override',combine_attrs='override', fill_value='')"
   ]
  },
  {
   "cell_type": "code",
   "execution_count": 9,
   "metadata": {},
   "outputs": [
    {
     "data": {
      "text/html": [
       "<pre>&lt;xarray.Dataset&gt;\n",
       "Dimensions:                    (time: 326, lat: 4500, lon: 6000)\n",
       "Coordinates:\n",
       "  * lat                        (lat) float32 19.99 19.97 19.95 ... -69.97 -69.99\n",
       "  * lon                        (lon) float32 70.01 70.03 70.05 ... 190.0 190.0\n",
       "  * time                       (time) datetime64[ns] 2020-01-01T15:20:00 ... ...\n",
       "Data variables:\n",
       "    dt_analysis                (time, lat, lon) float32 dask.array&lt;chunksize=(1, 2250, 3000), meta=np.ndarray&gt;\n",
       "    l2p_flags                  (time, lat, lon) float32 dask.array&lt;chunksize=(1, 1500, 2000), meta=np.ndarray&gt;\n",
       "    quality_level              (time, lat, lon) float32 dask.array&lt;chunksize=(1, 2250, 3000), meta=np.ndarray&gt;\n",
       "    satellite_zenith_angle     (time, lat, lon) float32 dask.array&lt;chunksize=(1, 2250, 3000), meta=np.ndarray&gt;\n",
       "    sea_surface_temperature    (time, lat, lon) float32 dask.array&lt;chunksize=(1, 1500, 2000), meta=np.ndarray&gt;\n",
       "    sses_bias                  (time, lat, lon) float32 dask.array&lt;chunksize=(1, 2250, 3000), meta=np.ndarray&gt;\n",
       "    sses_count                 (time, lat, lon) float32 dask.array&lt;chunksize=(1, 2250, 3000), meta=np.ndarray&gt;\n",
       "    sses_standard_deviation    (time, lat, lon) float32 dask.array&lt;chunksize=(1, 2250, 3000), meta=np.ndarray&gt;\n",
       "    sst_dtime                  (time, lat, lon) float64 dask.array&lt;chunksize=(1, 1500, 2000), meta=np.ndarray&gt;\n",
       "    wind_speed                 (time, lat, lon) float32 dask.array&lt;chunksize=(1, 2250, 3000), meta=np.ndarray&gt;\n",
       "    wind_speed_dtime_from_sst  (time, lat, lon) float32 dask.array&lt;chunksize=(1, 2250, 3000), meta=np.ndarray&gt;\n",
       "Attributes: (12/47)\n",
       "    Conventions:                CF-1.6\n",
       "    Metadata_Conventions:       Unidata Dataset Discovery v1.0\n",
       "    Metadata_Link:              TBA\n",
       "    acknowledgment:             Any use of these data requires the following ...\n",
       "    cdm_data_type:              grid\n",
       "    comment:                    HRPT AVHRR experimental L3 retrieval produced...\n",
       "    ...                         ...\n",
       "    summary:                    Skin SST retrievals produced from stitching t...\n",
       "    time_coverage_end:          20200101T132554Z\n",
       "    time_coverage_start:        20200101T095516Z\n",
       "    title:                      IMOS L3S Nighttime gridded multiple-sensor mu...\n",
       "    uuid:                       d192f263-384c-4907-a892-1a5b71630838\n",
       "    westernmost_longitude:      70.01000213623047</pre>"
      ],
      "text/plain": [
       "<xarray.Dataset>\n",
       "Dimensions:                    (time: 326, lat: 4500, lon: 6000)\n",
       "Coordinates:\n",
       "  * lat                        (lat) float32 19.99 19.97 19.95 ... -69.97 -69.99\n",
       "  * lon                        (lon) float32 70.01 70.03 70.05 ... 190.0 190.0\n",
       "  * time                       (time) datetime64[ns] 2020-01-01T15:20:00 ... ...\n",
       "Data variables:\n",
       "    dt_analysis                (time, lat, lon) float32 dask.array<chunksize=(1, 2250, 3000), meta=np.ndarray>\n",
       "    l2p_flags                  (time, lat, lon) float32 dask.array<chunksize=(1, 1500, 2000), meta=np.ndarray>\n",
       "    quality_level              (time, lat, lon) float32 dask.array<chunksize=(1, 2250, 3000), meta=np.ndarray>\n",
       "    satellite_zenith_angle     (time, lat, lon) float32 dask.array<chunksize=(1, 2250, 3000), meta=np.ndarray>\n",
       "    sea_surface_temperature    (time, lat, lon) float32 dask.array<chunksize=(1, 1500, 2000), meta=np.ndarray>\n",
       "    sses_bias                  (time, lat, lon) float32 dask.array<chunksize=(1, 2250, 3000), meta=np.ndarray>\n",
       "    sses_count                 (time, lat, lon) float32 dask.array<chunksize=(1, 2250, 3000), meta=np.ndarray>\n",
       "    sses_standard_deviation    (time, lat, lon) float32 dask.array<chunksize=(1, 2250, 3000), meta=np.ndarray>\n",
       "    sst_dtime                  (time, lat, lon) float64 dask.array<chunksize=(1, 1500, 2000), meta=np.ndarray>\n",
       "    wind_speed                 (time, lat, lon) float32 dask.array<chunksize=(1, 2250, 3000), meta=np.ndarray>\n",
       "    wind_speed_dtime_from_sst  (time, lat, lon) float32 dask.array<chunksize=(1, 2250, 3000), meta=np.ndarray>\n",
       "Attributes: (12/47)\n",
       "    Conventions:                CF-1.6\n",
       "    Metadata_Conventions:       Unidata Dataset Discovery v1.0\n",
       "    Metadata_Link:              TBA\n",
       "    acknowledgment:             Any use of these data requires the following ...\n",
       "    cdm_data_type:              grid\n",
       "    comment:                    HRPT AVHRR experimental L3 retrieval produced...\n",
       "    ...                         ...\n",
       "    summary:                    Skin SST retrievals produced from stitching t...\n",
       "    time_coverage_end:          20200101T132554Z\n",
       "    time_coverage_start:        20200101T095516Z\n",
       "    title:                      IMOS L3S Nighttime gridded multiple-sensor mu...\n",
       "    uuid:                       d192f263-384c-4907-a892-1a5b71630838\n",
       "    westernmost_longitude:      70.01000213623047"
      ]
     },
     "execution_count": 9,
     "metadata": {},
     "output_type": "execute_result"
    }
   ],
   "source": [
    "# let's have a look at the structure of this dataset\n",
    "ds"
   ]
  },
  {
   "cell_type": "code",
   "execution_count": 10,
   "metadata": {},
   "outputs": [
    {
     "name": "stdout",
     "output_type": "stream",
     "text": [
      "[########################################] | 100% Completed |  3min 21.0s\n"
     ]
    }
   ],
   "source": [
    "with dask.config.set(scheduler='threads'):\n",
    "    with ProgressBar(), Profiler() as prof, ResourceProfiler() as rprof, CacheProfiler() as cprof:\n",
    "        timeseries = ds.sel(lat=-32.45,lon=115.55,method='nearest').compute()"
   ]
  },
  {
   "cell_type": "code",
   "execution_count": 11,
   "metadata": {},
   "outputs": [
    {
     "data": {
      "text/html": [
       "<div style=\"display: table;\"><div style=\"display: table-row;\"><div style=\"display: table-cell;\"><b title=\"bokeh.models.layouts.Column\">Column</b>(</div><div style=\"display: table-cell;\">id&nbsp;=&nbsp;'1657', <span id=\"2174\" style=\"cursor: pointer;\">&hellip;)</span></div></div><div class=\"2173\" style=\"display: none;\"><div style=\"display: table-cell;\"></div><div style=\"display: table-cell;\">align&nbsp;=&nbsp;'start',</div></div><div class=\"2173\" style=\"display: none;\"><div style=\"display: table-cell;\"></div><div style=\"display: table-cell;\">aspect_ratio&nbsp;=&nbsp;None,</div></div><div class=\"2173\" style=\"display: none;\"><div style=\"display: table-cell;\"></div><div style=\"display: table-cell;\">background&nbsp;=&nbsp;None,</div></div><div class=\"2173\" style=\"display: none;\"><div style=\"display: table-cell;\"></div><div style=\"display: table-cell;\">children&nbsp;=&nbsp;[ToolbarBox(id='1656', ...), GridBox(id='1654', ...)],</div></div><div class=\"2173\" style=\"display: none;\"><div style=\"display: table-cell;\"></div><div style=\"display: table-cell;\">css_classes&nbsp;=&nbsp;[],</div></div><div class=\"2173\" style=\"display: none;\"><div style=\"display: table-cell;\"></div><div style=\"display: table-cell;\">disabled&nbsp;=&nbsp;False,</div></div><div class=\"2173\" style=\"display: none;\"><div style=\"display: table-cell;\"></div><div style=\"display: table-cell;\">height&nbsp;=&nbsp;None,</div></div><div class=\"2173\" style=\"display: none;\"><div style=\"display: table-cell;\"></div><div style=\"display: table-cell;\">height_policy&nbsp;=&nbsp;'auto',</div></div><div class=\"2173\" style=\"display: none;\"><div style=\"display: table-cell;\"></div><div style=\"display: table-cell;\">js_event_callbacks&nbsp;=&nbsp;{},</div></div><div class=\"2173\" style=\"display: none;\"><div style=\"display: table-cell;\"></div><div style=\"display: table-cell;\">js_property_callbacks&nbsp;=&nbsp;{},</div></div><div class=\"2173\" style=\"display: none;\"><div style=\"display: table-cell;\"></div><div style=\"display: table-cell;\">margin&nbsp;=&nbsp;(0, 0, 0, 0),</div></div><div class=\"2173\" style=\"display: none;\"><div style=\"display: table-cell;\"></div><div style=\"display: table-cell;\">max_height&nbsp;=&nbsp;None,</div></div><div class=\"2173\" style=\"display: none;\"><div style=\"display: table-cell;\"></div><div style=\"display: table-cell;\">max_width&nbsp;=&nbsp;None,</div></div><div class=\"2173\" style=\"display: none;\"><div style=\"display: table-cell;\"></div><div style=\"display: table-cell;\">min_height&nbsp;=&nbsp;None,</div></div><div class=\"2173\" style=\"display: none;\"><div style=\"display: table-cell;\"></div><div style=\"display: table-cell;\">min_width&nbsp;=&nbsp;None,</div></div><div class=\"2173\" style=\"display: none;\"><div style=\"display: table-cell;\"></div><div style=\"display: table-cell;\">name&nbsp;=&nbsp;None,</div></div><div class=\"2173\" style=\"display: none;\"><div style=\"display: table-cell;\"></div><div style=\"display: table-cell;\">rows&nbsp;=&nbsp;'auto',</div></div><div class=\"2173\" style=\"display: none;\"><div style=\"display: table-cell;\"></div><div style=\"display: table-cell;\">sizing_mode&nbsp;=&nbsp;None,</div></div><div class=\"2173\" style=\"display: none;\"><div style=\"display: table-cell;\"></div><div style=\"display: table-cell;\">spacing&nbsp;=&nbsp;0,</div></div><div class=\"2173\" style=\"display: none;\"><div style=\"display: table-cell;\"></div><div style=\"display: table-cell;\">subscribed_events&nbsp;=&nbsp;[],</div></div><div class=\"2173\" style=\"display: none;\"><div style=\"display: table-cell;\"></div><div style=\"display: table-cell;\">tags&nbsp;=&nbsp;[],</div></div><div class=\"2173\" style=\"display: none;\"><div style=\"display: table-cell;\"></div><div style=\"display: table-cell;\">visible&nbsp;=&nbsp;True,</div></div><div class=\"2173\" style=\"display: none;\"><div style=\"display: table-cell;\"></div><div style=\"display: table-cell;\">width&nbsp;=&nbsp;None,</div></div><div class=\"2173\" style=\"display: none;\"><div style=\"display: table-cell;\"></div><div style=\"display: table-cell;\">width_policy&nbsp;=&nbsp;'auto')</div></div></div>\n",
       "<script>\n",
       "(function() {\n",
       "  var expanded = false;\n",
       "  var ellipsis = document.getElementById(\"2174\");\n",
       "  ellipsis.addEventListener(\"click\", function() {\n",
       "    var rows = document.getElementsByClassName(\"2173\");\n",
       "    for (var i = 0; i < rows.length; i++) {\n",
       "      var el = rows[i];\n",
       "      el.style.display = expanded ? \"none\" : \"table-row\";\n",
       "    }\n",
       "    ellipsis.innerHTML = expanded ? \"&hellip;)\" : \"&lsaquo;&lsaquo;&lsaquo;\";\n",
       "    expanded = !expanded;\n",
       "  });\n",
       "})();\n",
       "</script>\n"
      ],
      "text/plain": [
       "Column(id='1657', ...)"
      ]
     },
     "execution_count": 11,
     "metadata": {},
     "output_type": "execute_result"
    }
   ],
   "source": [
    "visualize([prof, rprof, cprof])"
   ]
  },
  {
   "cell_type": "code",
   "execution_count": 12,
   "metadata": {},
   "outputs": [
    {
     "data": {
      "text/plain": [
       "[<matplotlib.lines.Line2D at 0x7fc70d2ae950>]"
      ]
     },
     "execution_count": 12,
     "metadata": {},
     "output_type": "execute_result"
    },
    {
     "data": {
      "image/png": "[encoded data removed]",
      "text/plain": [
       "<Figure size 432x288 with 1 Axes>"
      ]
     },
     "metadata": {
      "needs_background": "light"
     },
     "output_type": "display_data"
    }
   ],
   "source": [
    "timeseries.sea_surface_temperature.plot()"
   ]
  },
  {
   "cell_type": "markdown",
   "metadata": {},
   "source": [
    "## Convert To NetCDF"
   ]
  },
  {
   "cell_type": "code",
   "execution_count": null,
   "metadata": {},
   "outputs": [],
   "source": [
    "%%time\n",
    "timeseries.to_netcdf('timeseries.nc')"
   ]
  }
 ],
 "metadata": {
  "kernelspec": {
   "display_name": "conda_mxnet_latest_p37",
   "language": "python",
   "name": "conda_mxnet_latest_p37"
  },
  "language_info": {
   "codemirror_mode": {
    "name": "ipython",
    "version": 3
   },
   "file_extension": ".py",
   "mimetype": "text/x-python",
   "name": "python",
   "nbconvert_exporter": "python",
   "pygments_lexer": "ipython3",
   "version": "3.7.10"
  }
 },
 "nbformat": 4,
 "nbformat_minor": 4
}
