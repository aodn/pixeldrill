{
 "cells": [
  {
   "cell_type": "markdown",
   "metadata": {},
   "source": [
    "# Convert to Zarr files"
   ]
  },
  {
   "cell_type": "code",
   "execution_count": null,
   "metadata": {},
   "outputs": [],
   "source": [
    "import dask.bag as db\n",
    "import dask"
   ]
  },
  {
   "cell_type": "code",
   "execution_count": null,
   "metadata": {},
   "outputs": [],
   "source": [
    "import xarray as xr\n",
    "import fsspec"
   ]
  },
  {
   "cell_type": "code",
   "execution_count": null,
   "metadata": {},
   "outputs": [],
   "source": [
    "import s3fs\n",
    "s3 = s3fs.S3FileSystem(anon=False)"
   ]
  },
  {
   "cell_type": "code",
   "execution_count": null,
   "metadata": {},
   "outputs": [],
   "source": [
    "references = {}\n",
    "for year in range(1992, 2021):\n",
    "    references[year] = ['s3://' + path for path in (s3.glob(f'imos-data-pixeldrill/refs/{year}*'))]"
   ]
  },
  {
   "cell_type": "code",
   "execution_count": null,
   "metadata": {},
   "outputs": [],
   "source": [
    "def open_zarr(r):\n",
    "    m = fsspec.get_mapper(\"reference://\", \n",
    "                              remote_protocol='s3',\n",
    "                    fo=r, remote_options={'anon':True,'skip_instance_cache':True,'use_listings_cache':False})\n",
    "    ds = xr.open_zarr(m, consolidated=False)\n",
    "    return ds"
   ]
  },
  {
   "cell_type": "code",
   "execution_count": null,
   "metadata": {},
   "outputs": [],
   "source": [
    "from dask_cloudprovider.aws import FargateCluster\n",
    "cluster = FargateCluster(image=\"ghcr.io/aodn/pixeldrill:main\", scheduler_timeout=\"60 minutes\", task_role_arn=\"arn:aws:iam::615645230945:role/ManualDaskZarrCreation\",\n",
    "                         scheduler_cpu=2048, scheduler_mem=16384)"
   ]
  },
  {
   "cell_type": "code",
   "execution_count": null,
   "metadata": {},
   "outputs": [],
   "source": [
    "cluster.adapt(minimum=1,maximum=20)"
   ]
  },
  {
   "cell_type": "code",
   "execution_count": null,
   "metadata": {},
   "outputs": [],
   "source": [
    "%%time\n",
    "from dask.distributed import Client\n",
    "client = Client(cluster)\n",
    "display(client)"
   ]
  },
  {
   "cell_type": "code",
   "execution_count": null,
   "metadata": {},
   "outputs": [],
   "source": [
    "futures = []\n",
    "for ref in references.get(year):\n",
    "    futures.append(client.submit(open_zarr, ref))\n",
    "\n",
    "zarrs = [future.result() for future in futures]\n",
    "\n",
    "zarrs = [z.drop_vars(['sea_ice_fraction', 'sea_ice_fraction_dtime_from_sst', 'sst_dtime', 'sst_count', 'sst_mean', 'sst_standard_deviation', 'wind_speed', 'wind_speed_dtime_from_sst'], errors='ignore') for z in zarrs]\n",
    "ds = xr.concat(zarrs,dim='time',coords='minimal',compat='override',combine_attrs='override', fill_value='')"
   ]
  },
  {
   "cell_type": "code",
   "execution_count": null,
   "metadata": {},
   "outputs": [],
   "source": [
    "chunked = ds.chunk(chunks=64)\n",
    "\n",
    "year=2017\n",
    "\n",
    "for var in chunked.data_vars:\n",
    "    chunked[var].encoding = {}\n",
    "\n",
    "#output folder key has to already exist in s3 bucket\n",
    "store= s3fs.S3Map(root=f's3://imos-data-pixeldrill/FOLDER/{year}/', s3=s3, check=False)\n",
    "\n",
    "delayed = chunked.to_zarr(store, mode='w', compute=False)"
   ]
  },
  {
   "cell_type": "code",
   "execution_count": null,
   "metadata": {},
   "outputs": [],
   "source": [
    "%%time\n",
    "computed = delayed.compute()"
   ]
  }
 ],
 "metadata": {
  "kernelspec": {
   "display_name": "conda_mxnet_latest_p37",
   "language": "python",
   "name": "conda_mxnet_latest_p37"
  },
  "language_info": {
   "codemirror_mode": {
    "name": "ipython",
    "version": 3
   },
   "file_extension": ".py",
   "mimetype": "text/x-python",
   "name": "python",
   "nbconvert_exporter": "python",
   "pygments_lexer": "ipython3",
   "version": "3.7.10"
  }
 },
 "nbformat": 4,
 "nbformat_minor": 4
}
