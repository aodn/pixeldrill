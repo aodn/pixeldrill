{
 "cells": [
  {
   "cell_type": "markdown",
   "id": "90718141",
   "metadata": {},
   "source": [
    "# Notebook to create aggregated reference files (json) into monthly or yearly zarrs"
   ]
  },
  {
   "cell_type": "code",
   "execution_count": 1,
   "id": "68c62510",
   "metadata": {},
   "outputs": [],
   "source": [
    "import sys"
   ]
  },
  {
   "cell_type": "code",
   "execution_count": 2,
   "id": "aa7a2c04",
   "metadata": {},
   "outputs": [],
   "source": [
    "sys.path.insert(0,'/home/jovyan/filesystem_spec')"
   ]
  },
  {
   "cell_type": "code",
   "execution_count": 3,
   "id": "e08e2dc7",
   "metadata": {},
   "outputs": [
    {
     "data": {
      "text/plain": [
       "<xarray.core.options.set_options at 0x7f3948531d00>"
      ]
     },
     "execution_count": 3,
     "metadata": {},
     "output_type": "execute_result"
    }
   ],
   "source": [
    "from fsspec_reference_maker.combine import MultiZarrToZarr\n",
    "import fsspec\n",
    "import xarray as xr\n",
    "import os, glob\n",
    "xr.set_options(display_style='text')"
   ]
  },
  {
   "cell_type": "code",
   "execution_count": 4,
   "id": "2a9971fa",
   "metadata": {},
   "outputs": [
    {
     "data": {
      "text/plain": [
       "'/home/jovyan/filesystem_spec/fsspec/__init__.py'"
      ]
     },
     "execution_count": 4,
     "metadata": {},
     "output_type": "execute_result"
    }
   ],
   "source": [
    "fsspec.__file__"
   ]
  },
  {
   "cell_type": "code",
   "execution_count": 5,
   "id": "8844aae2",
   "metadata": {},
   "outputs": [
    {
     "data": {
      "application/vnd.jupyter.widget-view+json": {
       "model_id": "fa743905d4cb47dcaca03f9a754f7e6b",
       "version_major": 2,
       "version_minor": 0
      },
      "text/plain": [
       "VBox(children=(HTML(value='<h2>LocalCluster</h2>'), HBox(children=(HTML(value='\\n<div>\\n  <style scoped>\\n    …"
      ]
     },
     "metadata": {},
     "output_type": "display_data"
    },
    {
     "data": {
      "text/html": [
       "<table style=\"border: 2px solid white;\">\n",
       "<tr>\n",
       "<td style=\"vertical-align: top; border: 0px solid white\">\n",
       "<h3 style=\"text-align: left;\">Client</h3>\n",
       "<ul style=\"text-align: left; list-style: none; margin: 0; padding: 0;\">\n",
       "  <li><b>Scheduler: </b>tcp://127.0.0.1:43481</li>\n",
       "  <li><b>Dashboard: </b><a href='http://127.0.0.1:8787/status' target='_blank'>http://127.0.0.1:8787/status</a></li>\n",
       "</ul>\n",
       "</td>\n",
       "<td style=\"vertical-align: top; border: 0px solid white\">\n",
       "<h3 style=\"text-align: left;\">Cluster</h3>\n",
       "<ul style=\"text-align: left; list-style:none; margin: 0; padding: 0;\">\n",
       "  <li><b>Workers: </b>8</li>\n",
       "  <li><b>Cores: </b>32</li>\n",
       "  <li><b>Memory: </b>30.06 GB</li>\n",
       "</ul>\n",
       "</td>\n",
       "</tr>\n",
       "</table>"
      ],
      "text/plain": [
       "<Client: 'tcp://127.0.0.1:43481' processes=8 threads=32, memory=30.06 GB>"
      ]
     },
     "metadata": {},
     "output_type": "display_data"
    }
   ],
   "source": [
    "gateway_cluster = False\n",
    "from dask.distributed import Client, LocalCluster\n",
    "from dask_gateway import Gateway\n",
    "\n",
    "# Dask gateway\n",
    "if gateway_cluster:\n",
    "    gateway = Gateway()\n",
    "    clusters = gateway.list_clusters()\n",
    "    if not clusters:\n",
    "        print('Creating new cluster. Please wait for this to finish.')\n",
    "        cluster = gateway.new_cluster()\n",
    "    else:\n",
    "        print(f'An existing cluster was found. Connected to cluster \\033[1m{clusters[0].name}\\033[0m')\n",
    "        cluster=gateway.connect(clusters[0].name)\n",
    "    cluster.adapt(minimum=1, maximum=30)\n",
    "    client = cluster.get_client()\n",
    "    client.wait_for_workers(n_workers=1)\n",
    "\n",
    "# Local cluster\n",
    "else:\n",
    "    cluster = LocalCluster()\n",
    "    client = Client(cluster)\n",
    "\n",
    "display(cluster)\n",
    "display(client)"
   ]
  },
  {
   "cell_type": "code",
   "execution_count": 6,
   "id": "72da7a43",
   "metadata": {},
   "outputs": [],
   "source": [
    "# Load credentials\n",
    "def load_creds():\n",
    "    with open(os.environ['HOME'] + '/.aws/credentials','rt') as f:\n",
    "        f.readline()\n",
    "        key=f.readline().split('=')[1].strip()\n",
    "        secret=f.readline().split('=')[1].strip()\n",
    "    return key, secret\n",
    "key,secret=load_creds()"
   ]
  },
  {
   "cell_type": "code",
   "execution_count": 7,
   "id": "7b2d0cfa",
   "metadata": {},
   "outputs": [
    {
     "data": {
      "text/html": [
       "<pre>&lt;xarray.Dataset&gt;\n",
       "Dimensions:                          (lat: 4500, lon: 6000, time: 1)\n",
       "Coordinates:\n",
       "  * lat                              (lat) float32 19.99 19.97 ... -69.97 -69.99\n",
       "  * lon                              (lon) float32 70.01 70.03 ... 190.0 190.0\n",
       "  * time                             (time) datetime64[ns] 2021-07-25T15:20:00\n",
       "Data variables: (12/13)\n",
       "    dt_analysis                      (time, lat, lon) float32 dask.array&lt;chunksize=(1, 2250, 3000), meta=np.ndarray&gt;\n",
       "    l2p_flags                        (time, lat, lon) float32 dask.array&lt;chunksize=(1, 1500, 2000), meta=np.ndarray&gt;\n",
       "    quality_level                    (time, lat, lon) float32 dask.array&lt;chunksize=(1, 2250, 3000), meta=np.ndarray&gt;\n",
       "    satellite_zenith_angle           (time, lat, lon) float32 dask.array&lt;chunksize=(1, 2250, 3000), meta=np.ndarray&gt;\n",
       "    sea_ice_fraction                 (time, lat, lon) float32 dask.array&lt;chunksize=(1, 2250, 3000), meta=np.ndarray&gt;\n",
       "    sea_ice_fraction_dtime_from_sst  (time, lat, lon) float32 dask.array&lt;chunksize=(1, 2250, 3000), meta=np.ndarray&gt;\n",
       "    ...                               ...\n",
       "    sses_bias                        (time, lat, lon) float32 dask.array&lt;chunksize=(1, 2250, 3000), meta=np.ndarray&gt;\n",
       "    sses_count                       (time, lat, lon) float32 dask.array&lt;chunksize=(1, 2250, 3000), meta=np.ndarray&gt;\n",
       "    sses_standard_deviation          (time, lat, lon) float32 dask.array&lt;chunksize=(1, 2250, 3000), meta=np.ndarray&gt;\n",
       "    sst_dtime                        (time, lat, lon) float64 dask.array&lt;chunksize=(1, 1500, 2000), meta=np.ndarray&gt;\n",
       "    wind_speed                       (time, lat, lon) float32 dask.array&lt;chunksize=(1, 2250, 3000), meta=np.ndarray&gt;\n",
       "    wind_speed_dtime_from_sst        (time, lat, lon) float32 dask.array&lt;chunksize=(1, 2250, 3000), meta=np.ndarray&gt;\n",
       "Attributes: (12/47)\n",
       "    Conventions:                CF-1.6\n",
       "    Metadata_Conventions:       Unidata Dataset Discovery v1.0\n",
       "    Metadata_Link:              TBA\n",
       "    acknowledgment:             Any use of these data requires the following ...\n",
       "    cdm_data_type:              grid\n",
       "    comment:                    HRPT AVHRR experimental L3 retrieval produced...\n",
       "    ...                         ...\n",
       "    summary:                    Skin SST retrievals produced from stitching t...\n",
       "    time_coverage_end:          20210725T225520Z\n",
       "    time_coverage_start:        20210725T111633Z\n",
       "    title:                      IMOS L3S Nighttime gridded multiple-sensor mu...\n",
       "    uuid:                       73a8d665-6b25-4f5b-80f8-8d4b296da543\n",
       "    westernmost_longitude:      70.01000213623047</pre>"
      ],
      "text/plain": [
       "<xarray.Dataset>\n",
       "Dimensions:                          (lat: 4500, lon: 6000, time: 1)\n",
       "Coordinates:\n",
       "  * lat                              (lat) float32 19.99 19.97 ... -69.97 -69.99\n",
       "  * lon                              (lon) float32 70.01 70.03 ... 190.0 190.0\n",
       "  * time                             (time) datetime64[ns] 2021-07-25T15:20:00\n",
       "Data variables: (12/13)\n",
       "    dt_analysis                      (time, lat, lon) float32 dask.array<chunksize=(1, 2250, 3000), meta=np.ndarray>\n",
       "    l2p_flags                        (time, lat, lon) float32 dask.array<chunksize=(1, 1500, 2000), meta=np.ndarray>\n",
       "    quality_level                    (time, lat, lon) float32 dask.array<chunksize=(1, 2250, 3000), meta=np.ndarray>\n",
       "    satellite_zenith_angle           (time, lat, lon) float32 dask.array<chunksize=(1, 2250, 3000), meta=np.ndarray>\n",
       "    sea_ice_fraction                 (time, lat, lon) float32 dask.array<chunksize=(1, 2250, 3000), meta=np.ndarray>\n",
       "    sea_ice_fraction_dtime_from_sst  (time, lat, lon) float32 dask.array<chunksize=(1, 2250, 3000), meta=np.ndarray>\n",
       "    ...                               ...\n",
       "    sses_bias                        (time, lat, lon) float32 dask.array<chunksize=(1, 2250, 3000), meta=np.ndarray>\n",
       "    sses_count                       (time, lat, lon) float32 dask.array<chunksize=(1, 2250, 3000), meta=np.ndarray>\n",
       "    sses_standard_deviation          (time, lat, lon) float32 dask.array<chunksize=(1, 2250, 3000), meta=np.ndarray>\n",
       "    sst_dtime                        (time, lat, lon) float64 dask.array<chunksize=(1, 1500, 2000), meta=np.ndarray>\n",
       "    wind_speed                       (time, lat, lon) float32 dask.array<chunksize=(1, 2250, 3000), meta=np.ndarray>\n",
       "    wind_speed_dtime_from_sst        (time, lat, lon) float32 dask.array<chunksize=(1, 2250, 3000), meta=np.ndarray>\n",
       "Attributes: (12/47)\n",
       "    Conventions:                CF-1.6\n",
       "    Metadata_Conventions:       Unidata Dataset Discovery v1.0\n",
       "    Metadata_Link:              TBA\n",
       "    acknowledgment:             Any use of these data requires the following ...\n",
       "    cdm_data_type:              grid\n",
       "    comment:                    HRPT AVHRR experimental L3 retrieval produced...\n",
       "    ...                         ...\n",
       "    summary:                    Skin SST retrievals produced from stitching t...\n",
       "    time_coverage_end:          20210725T225520Z\n",
       "    time_coverage_start:        20210725T111633Z\n",
       "    title:                      IMOS L3S Nighttime gridded multiple-sensor mu...\n",
       "    uuid:                       73a8d665-6b25-4f5b-80f8-8d4b296da543\n",
       "    westernmost_longitude:      70.01000213623047"
      ]
     },
     "metadata": {},
     "output_type": "display_data"
    }
   ],
   "source": [
    "# Check a file\n",
    "def open_dataset(fo,preprocess=None):\n",
    "\n",
    "    mapper=fsspec.get_mapper('reference://',\n",
    "                         fo=fo,\n",
    "                         target_options=dict(key=key,secret=secret),\n",
    "                         remote_protocol='s3',\n",
    "                         remote_options=dict(key=key,secret=secret),\n",
    "                        )\n",
    "    ds = xr.open_zarr(mapper,chunks={})   \n",
    "    \n",
    "    if preprocess is not None:\n",
    "        ds = preprocess(ds)\n",
    "    \n",
    "    return ds\n",
    "\n",
    "fn = 's3://imos-data-pixeldrill-refs/IMOS/SRS/SST/ghrsst/L3S-1d/ngt/2021/20210725152000-ABOM-L3S_GHRSST-SSTskin-AVHRR_D-1d_night.json'\n",
    "ds = open_dataset(fn)\n",
    "display(ds)"
   ]
  },
  {
   "cell_type": "code",
   "execution_count": 8,
   "id": "a4f9bbd0",
   "metadata": {},
   "outputs": [
    {
     "data": {
      "text/plain": [
       "['dt_analysis',\n",
       " 'l2p_flags',\n",
       " 'quality_level',\n",
       " 'satellite_zenith_angle',\n",
       " 'sea_ice_fraction',\n",
       " 'sea_ice_fraction_dtime_from_sst',\n",
       " 'sea_surface_temperature',\n",
       " 'sses_bias',\n",
       " 'sses_count',\n",
       " 'sses_standard_deviation',\n",
       " 'sst_dtime',\n",
       " 'wind_speed',\n",
       " 'wind_speed_dtime_from_sst']"
      ]
     },
     "execution_count": 8,
     "metadata": {},
     "output_type": "execute_result"
    }
   ],
   "source": [
    "list(ds.data_vars)"
   ]
  },
  {
   "cell_type": "markdown",
   "id": "1afaed49",
   "metadata": {},
   "source": [
    "### Find files with different chunking in the netCDF - mostly in 2016"
   ]
  },
  {
   "cell_type": "code",
   "execution_count": 9,
   "id": "76d62b45",
   "metadata": {},
   "outputs": [],
   "source": [
    "# fs = fsspec.filesystem('s3',profile='default')"
   ]
  },
  {
   "cell_type": "code",
   "execution_count": 10,
   "id": "4ed1c41b",
   "metadata": {},
   "outputs": [],
   "source": [
    "# files = fs.glob('s3://imos-data-pixeldrill-refs/IMOS/SRS/SST/ghrsst/L3S-1d/ngt/2016/201605*')\n",
    "# for f in files:\n",
    "#     ds = open_dataset(f)\n",
    "#     print(f + str(ds['satellite_zenith_angle'].encoding['chunks']))"
   ]
  },
  {
   "cell_type": "code",
   "execution_count": 11,
   "id": "ec217284",
   "metadata": {},
   "outputs": [],
   "source": [
    "# Badly chunked file: imos-data-pixeldrill/IMOS/SRS/SST/ghrsst/L3S-1d/ngt/2016/20161001152000-ABOM-L3S_GHRSST-SSTskin-AVHRR_D-1d_night.nc\n",
    "# fs.delete('imos-data-pixeldrill-refs/IMOS/SRS/SST/ghrsst/L3S-1d/ngt/2016/20161001152000-ABOM-L3S_GHRSST-SSTskin-AVHRR_D-1d_night.json')"
   ]
  },
  {
   "cell_type": "markdown",
   "id": "daf94f33",
   "metadata": {},
   "source": [
    "### Aggregate json at different time scales - deals with different chunk layouts by creating separate stacks for each layout"
   ]
  },
  {
   "cell_type": "code",
   "execution_count": 12,
   "id": "1a34329c",
   "metadata": {},
   "outputs": [],
   "source": [
    "def aggregate_json(root='s3://imos-data-pixeldrill-refs/IMOS/SRS/SST/ghrsst/L3S-1d/ngt/',\n",
    "                   mask='2021/202101',\n",
    "                   dest='./refs_monthly/',\n",
    "                   suffix='_ABOM-L3S_GHRSST-SSTskin-AVHRR_D-1d_night',\n",
    "                   extension='json'):\n",
    "    import os\n",
    "    \n",
    "    def _preprocess(ds):\n",
    "        variables = ['dt_analysis',\n",
    "                     'l2p_flags',\n",
    "                     'quality_level',\n",
    "                     'satellite_zenith_angle',\n",
    "                     'sea_surface_temperature',\n",
    "                     'sses_bias',\n",
    "                     'sses_count',\n",
    "                     'sses_standard_deviation',\n",
    "                     'sst_dtime']\n",
    "        ds = ds[variables]\n",
    "        return ds\n",
    "    \n",
    "    fs = fsspec.filesystem('s3',profile='default')\n",
    "    references = fs.glob(f\"{root}{mask}*.json\")\n",
    "        \n",
    "    if len(references) >= 1:\n",
    "        so = dict(\n",
    "            protocol='s3',\n",
    "            profile='default', \n",
    "            default_fill_cache=False, \n",
    "            default_cache_type='first',\n",
    "        )\n",
    "        \n",
    "        #Deal with different chunk sizes - create a separate aggregate file for each chunking layout\n",
    "        chunking = {}\n",
    "        for r in references:\n",
    "            ds=open_dataset('s3://' + r)\n",
    "            key = ds['sea_surface_temperature'].chunks\n",
    "            if key in chunking.keys():\n",
    "                chunking[key].append(r)\n",
    "            else:\n",
    "                chunking[key] = [r,]\n",
    "        \n",
    "        #Label each set with a, b, c, ...\n",
    "        labels = [chr(i) for i in range(97,97+len(chunking.keys()))]\n",
    "        agg_files=[]\n",
    "        for i, (chunks, refs) in enumerate(chunking.items()):\n",
    "            \n",
    "            #setup output location\n",
    "            agg_file = f\"{dest}{mask}{suffix}.{extension}\".replace(f'.{extension}',f'_{labels[i]}.{extension}')\n",
    "            print(agg_file)\n",
    "            dirname = os.path.dirname(agg_file)\n",
    "            os.makedirs(dirname,exist_ok=True)\n",
    "            \n",
    "            if len(refs) == 1: # Only one refence in this set... just use the source reference file\n",
    "                fs.get(refs[0],agg_file)\n",
    "            else: # otherwise join the references into one file\n",
    "                \n",
    "                mzz = MultiZarrToZarr(\n",
    "                    refs,\n",
    "                    storage_options=so,\n",
    "                    remote_protocol=\"s3\",\n",
    "                    remote_options={'profile': 'default'},\n",
    "                    xarray_concat_args=dict(dim='time',coords='minimal',join='override',compat='override',combine_attrs='override', fill_value=''),\n",
    "                    preprocess=_preprocess\n",
    "                )\n",
    "                \n",
    "                if extension == 'zarr':\n",
    "                    template_count = None\n",
    "                else:\n",
    "                    template_count = 5\n",
    "\n",
    "                try:\n",
    "                    mzz.translate(agg_file, template_count=template_count)\n",
    "                except NotImplementedError as ex:\n",
    "                    agg_file = f'ERROR(CHUNK): {agg_file} {str(ex)}'\n",
    "                except Exception as ex:\n",
    "                    agg_file = f'ERROR(UNKOWN): {agg_file} {str(ex)}'\n",
    "                    raise ex\n",
    "            \n",
    "            agg_files.append(agg_file)\n",
    "            \n",
    "        return {mask: agg_files}\n",
    "    else:\n",
    "        return {mask: 'ERROR(NOFILES)'}\n",
    "    \n",
    "from dask import delayed, compute\n",
    "d_aggregate_json=delayed(aggregate_json)"
   ]
  },
  {
   "cell_type": "code",
   "execution_count": 16,
   "id": "4e10767c",
   "metadata": {},
   "outputs": [
    {
     "name": "stdout",
     "output_type": "stream",
     "text": [
      "./refs_monthly/2016/201605_ABOM-L3S_GHRSST-SSTskin-AVHRR_D-1d_night_a.zarr\n",
      "./refs_monthly/2016/201605_ABOM-L3S_GHRSST-SSTskin-AVHRR_D-1d_night_b.zarr\n"
     ]
    },
    {
     "data": {
      "text/plain": [
       "{'2016/201605': ['./refs_monthly/2016/201605_ABOM-L3S_GHRSST-SSTskin-AVHRR_D-1d_night_a.zarr',\n",
       "  './refs_monthly/2016/201605_ABOM-L3S_GHRSST-SSTskin-AVHRR_D-1d_night_b.zarr']}"
      ]
     },
     "execution_count": 16,
     "metadata": {},
     "output_type": "execute_result"
    }
   ],
   "source": [
    "aggregate_json(dest='./refs_monthly/',mask='2016/201605',extension='zarr')"
   ]
  },
  {
   "cell_type": "markdown",
   "id": "905da548",
   "metadata": {},
   "source": [
    "### Monthly aggregates"
   ]
  },
  {
   "cell_type": "code",
   "execution_count": 50,
   "id": "1e172342",
   "metadata": {},
   "outputs": [],
   "source": [
    "futures=[]\n",
    "for year in range(1992,2022):\n",
    "    for month in range(1,13):\n",
    "        futures.append(d_aggregate_json(dest='./refs_monthly/',\n",
    "                                        mask=f'{year}/{year}{month:02d}',\n",
    "                                        extension='json'))   \n",
    "results = compute(futures)[0]"
   ]
  },
  {
   "cell_type": "markdown",
   "id": "a237a50c",
   "metadata": {},
   "source": [
    "### Yearly aggregates"
   ]
  },
  {
   "cell_type": "code",
   "execution_count": 30,
   "id": "c7c0721f",
   "metadata": {},
   "outputs": [],
   "source": [
    "futures=[]\n",
    "for year in range(1992,2022):\n",
    "        futures.append(d_aggregate_json(dest='./refs_yearly/',\n",
    "                                        mask=f'{year}/{year}',\n",
    "                                        extension='json'))   \n",
    "results = compute(futures)[0]"
   ]
  },
  {
   "cell_type": "markdown",
   "id": "8ac51c17",
   "metadata": {},
   "source": [
    "### Upload to S3 bucket"
   ]
  },
  {
   "cell_type": "code",
   "execution_count": 21,
   "id": "c7026cc3",
   "metadata": {},
   "outputs": [],
   "source": [
    "def upload_to_s3(f,urlpath='imos-data-pixeldrill-refs/IMOS/SRS/SST/ghrsst/L3S-1d/ngt/agg_monthly/'):\n",
    "    import fsspec\n",
    "    fs = fsspec.filesystem('s3',profile='default')\n",
    "    fn = os.path.basename(f)\n",
    "    fs.put_file(f,urlpath + fn)\n",
    "    return \"Success\""
   ]
  },
  {
   "cell_type": "code",
   "execution_count": 16,
   "id": "5ea25cbe",
   "metadata": {},
   "outputs": [],
   "source": [
    "#monthly files\n",
    "agg_files = sorted(glob.glob('./refs_monthly/*/*.json'))\n",
    "futures = client.map(upload_to_s3,agg_files,urlpath='imos-data-pixeldrill-refs/IMOS/SRS/SST/ghrsst/L3S-1d/ngt/agg_monthly/')\n",
    "results = client.gather(futures)"
   ]
  },
  {
   "cell_type": "code",
   "execution_count": 17,
   "id": "43058971",
   "metadata": {},
   "outputs": [],
   "source": [
    "#yearly files\n",
    "agg_files = sorted(glob.glob('./refs_yearly/*/*.json'))\n",
    "futures = client.map(upload_to_s3,agg_files,urlpath='imos-data-pixeldrill-refs/IMOS/SRS/SST/ghrsst/L3S-1d/ngt/agg_yearly/')\n",
    "results = client.gather(futures)"
   ]
  },
  {
   "cell_type": "code",
   "execution_count": 3,
   "id": "7a95a449",
   "metadata": {},
   "outputs": [],
   "source": [
    "import fsspec\n",
    "fs = fsspec.filesystem('s3',profile='default')"
   ]
  },
  {
   "cell_type": "code",
   "execution_count": 4,
   "id": "d6ace322",
   "metadata": {},
   "outputs": [],
   "source": [
    "fs.delete('imos-data-pixeldrill-refs/IMOS/SRS/SST/ghrsst/L3S-1d/ngt/agg_yearly/*night.json')"
   ]
  },
  {
   "cell_type": "markdown",
   "id": "18729419",
   "metadata": {},
   "source": [
    "## Try using zarr instead of json"
   ]
  },
  {
   "cell_type": "markdown",
   "id": "fb5ae965",
   "metadata": {},
   "source": [
    "### Monthly aggregates"
   ]
  },
  {
   "cell_type": "code",
   "execution_count": 17,
   "id": "8c58ec94",
   "metadata": {},
   "outputs": [],
   "source": [
    "futures=[]\n",
    "for year in range(1992,2022):\n",
    "    for month in range(1,13):\n",
    "        futures.append(d_aggregate_json(dest='./refs_monthly/',\n",
    "                                        mask=f'{year}/{year}{month:02d}',\n",
    "                                        extension='zarr'))   \n",
    "results = compute(futures)[0]"
   ]
  },
  {
   "cell_type": "code",
   "execution_count": 9,
   "id": "3a850503",
   "metadata": {},
   "outputs": [],
   "source": [
    "def upload_zarr_to_s3(f,urlpath='imos-data-pixeldrill-refs/IMOS/SRS/SST/ghrsst/L3S-1d/ngt/agg_monthly/'):\n",
    "    import fsspec\n",
    "    fs = fsspec.filesystem('s3',profile='default')\n",
    "    fn = os.path.basename(f)\n",
    "    fs.put(f+'/*',urlpath + fn + '/',recursive=True)\n",
    "    return \"Success\""
   ]
  },
  {
   "cell_type": "code",
   "execution_count": null,
   "id": "e9f95f4b",
   "metadata": {},
   "outputs": [],
   "source": [
    "agg_files = sorted(glob.glob('./refs_monthly/*/*.zarr'))\n",
    "futures = client.map(upload_zarr_to_s3,agg_files,urlpath='imos-data-pixeldrill-refs/IMOS/SRS/SST/ghrsst/L3S-1d/ngt/agg_monthly/')\n",
    "results = client.gather(futures)"
   ]
  },
  {
   "cell_type": "markdown",
   "id": "863b0823",
   "metadata": {},
   "source": [
    "### Yearly aggregates"
   ]
  },
  {
   "cell_type": "code",
   "execution_count": 24,
   "id": "aee33849",
   "metadata": {},
   "outputs": [],
   "source": [
    "futures=[]\n",
    "for year in range(1992,2022):\n",
    "        futures.append(d_aggregate_json(dest='./refs_yearly/',\n",
    "                                        mask=f'{year}/{year}',\n",
    "                                        extension='zarr'))   \n",
    "results = compute(futures)[0]"
   ]
  },
  {
   "cell_type": "code",
   "execution_count": 10,
   "id": "4eb3c195",
   "metadata": {},
   "outputs": [],
   "source": [
    "agg_files = sorted(glob.glob('./refs_yearly/*/*.zarr'))\n",
    "futures = client.map(upload_zarr_to_s3,agg_files,urlpath='imos-data-pixeldrill-refs/IMOS/SRS/SST/ghrsst/L3S-1d/ngt/agg_yearly/')\n",
    "results = client.gather(futures)"
   ]
  },
  {
   "cell_type": "code",
   "execution_count": 24,
   "id": "f53837a2",
   "metadata": {},
   "outputs": [
    {
     "data": {
      "text/html": [
       "<pre>&lt;xarray.Dataset&gt;\n",
       "Dimensions:                  (lat: 4500, lon: 6000, time: 262)\n",
       "Coordinates:\n",
       "  * lat                      (lat) float32 19.99 19.97 19.95 ... -69.97 -69.99\n",
       "  * lon                      (lon) float32 70.01 70.03 70.05 ... 190.0 190.0\n",
       "  * time                     (time) datetime64[us] 1992-03-21T15:20:00 ... 19...\n",
       "Data variables:\n",
       "    dt_analysis              (time, lat, lon) float32 dask.array&lt;chunksize=(1, 2250, 3000), meta=np.ndarray&gt;\n",
       "    l2p_flags                (time, lat, lon) float32 dask.array&lt;chunksize=(1, 1500, 2000), meta=np.ndarray&gt;\n",
       "    quality_level            (time, lat, lon) float32 dask.array&lt;chunksize=(1, 2250, 3000), meta=np.ndarray&gt;\n",
       "    satellite_zenith_angle   (time, lat, lon) float32 dask.array&lt;chunksize=(1, 2250, 3000), meta=np.ndarray&gt;\n",
       "    sea_surface_temperature  (time, lat, lon) float32 dask.array&lt;chunksize=(1, 1500, 2000), meta=np.ndarray&gt;\n",
       "    sses_bias                (time, lat, lon) float32 dask.array&lt;chunksize=(1, 2250, 3000), meta=np.ndarray&gt;\n",
       "    sses_count               (time, lat, lon) float32 dask.array&lt;chunksize=(1, 2250, 3000), meta=np.ndarray&gt;\n",
       "    sses_standard_deviation  (time, lat, lon) float32 dask.array&lt;chunksize=(1, 2250, 3000), meta=np.ndarray&gt;\n",
       "    sst_dtime                (time, lat, lon) float64 dask.array&lt;chunksize=(1, 1500, 2000), meta=np.ndarray&gt;\n",
       "Attributes: (12/50)\n",
       "    Conventions:                      CF-1.6\n",
       "    Metadata_Conventions:             Unidata Dataset Discovery v1.0\n",
       "    Metadata_Link:                    TBA\n",
       "    acknowledgment:                   Any use of these data requires the foll...\n",
       "    cdm_data_type:                    grid\n",
       "    comment:                          HRPT AVHRR experimental L3 retrieval pr...\n",
       "    ...                               ...\n",
       "    summary:                          Skin SST retrievals produced from stitc...\n",
       "    time_coverage_end:                19920321T141620Z\n",
       "    time_coverage_start:              19920321T055557Z\n",
       "    title:                            IMOS L3S Nighttime gridded multiple-sen...\n",
       "    uuid:                             1f323c53-8d93-4bb4-a633-49622aa4e497\n",
       "    westernmost_longitude:            70.01000213623047</pre>"
      ],
      "text/plain": [
       "<xarray.Dataset>\n",
       "Dimensions:                  (lat: 4500, lon: 6000, time: 262)\n",
       "Coordinates:\n",
       "  * lat                      (lat) float32 19.99 19.97 19.95 ... -69.97 -69.99\n",
       "  * lon                      (lon) float32 70.01 70.03 70.05 ... 190.0 190.0\n",
       "  * time                     (time) datetime64[us] 1992-03-21T15:20:00 ... 19...\n",
       "Data variables:\n",
       "    dt_analysis              (time, lat, lon) float32 dask.array<chunksize=(1, 2250, 3000), meta=np.ndarray>\n",
       "    l2p_flags                (time, lat, lon) float32 dask.array<chunksize=(1, 1500, 2000), meta=np.ndarray>\n",
       "    quality_level            (time, lat, lon) float32 dask.array<chunksize=(1, 2250, 3000), meta=np.ndarray>\n",
       "    satellite_zenith_angle   (time, lat, lon) float32 dask.array<chunksize=(1, 2250, 3000), meta=np.ndarray>\n",
       "    sea_surface_temperature  (time, lat, lon) float32 dask.array<chunksize=(1, 1500, 2000), meta=np.ndarray>\n",
       "    sses_bias                (time, lat, lon) float32 dask.array<chunksize=(1, 2250, 3000), meta=np.ndarray>\n",
       "    sses_count               (time, lat, lon) float32 dask.array<chunksize=(1, 2250, 3000), meta=np.ndarray>\n",
       "    sses_standard_deviation  (time, lat, lon) float32 dask.array<chunksize=(1, 2250, 3000), meta=np.ndarray>\n",
       "    sst_dtime                (time, lat, lon) float64 dask.array<chunksize=(1, 1500, 2000), meta=np.ndarray>\n",
       "Attributes: (12/50)\n",
       "    Conventions:                      CF-1.6\n",
       "    Metadata_Conventions:             Unidata Dataset Discovery v1.0\n",
       "    Metadata_Link:                    TBA\n",
       "    acknowledgment:                   Any use of these data requires the foll...\n",
       "    cdm_data_type:                    grid\n",
       "    comment:                          HRPT AVHRR experimental L3 retrieval pr...\n",
       "    ...                               ...\n",
       "    summary:                          Skin SST retrievals produced from stitc...\n",
       "    time_coverage_end:                19920321T141620Z\n",
       "    time_coverage_start:              19920321T055557Z\n",
       "    title:                            IMOS L3S Nighttime gridded multiple-sen...\n",
       "    uuid:                             1f323c53-8d93-4bb4-a633-49622aa4e497\n",
       "    westernmost_longitude:            70.01000213623047"
      ]
     },
     "execution_count": 24,
     "metadata": {},
     "output_type": "execute_result"
    }
   ],
   "source": [
    "open_dataset('s3://imos-data-pixeldrill-refs/IMOS/SRS/SST/ghrsst/L3S-1d/ngt/agg_yearly/1992_ABOM-L3S_GHRSST-SSTskin-AVHRR_D-1d_night_a.zarr')"
   ]
  },
  {
   "cell_type": "code",
   "execution_count": null,
   "id": "c3b76c8b",
   "metadata": {},
   "outputs": [],
   "source": []
  }
 ],
 "metadata": {
  "kernelspec": {
   "display_name": "pixeldrill",
   "language": "python",
   "name": "pixeldrill"
  },
  "language_info": {
   "codemirror_mode": {
    "name": "ipython",
    "version": 3
   },
   "file_extension": ".py",
   "mimetype": "text/x-python",
   "name": "python",
   "nbconvert_exporter": "python",
   "pygments_lexer": "ipython3",
   "version": "3.8.5"
  }
 },
 "nbformat": 4,
 "nbformat_minor": 5
}
