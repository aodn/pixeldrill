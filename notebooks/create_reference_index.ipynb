{
 "cells": [
  {
   "cell_type": "markdown",
   "metadata": {},
   "source": [
    "# Benchmark a year pixel drill"
   ]
  },
  {
   "cell_type": "code",
   "execution_count": null,
   "metadata": {},
   "outputs": [],
   "source": [
    "import json\n",
    "import fsspec\n",
    "import os\n",
    "import fsspec_reference_maker.hdf as fshdf"
   ]
  },
  {
   "cell_type": "code",
   "execution_count": null,
   "metadata": {},
   "outputs": [],
   "source": [
    "import dask.bag as db\n",
    "import dask\n",
    "from dask.diagnostics import ProgressBar"
   ]
  },
  {
   "cell_type": "code",
   "execution_count": null,
   "metadata": {},
   "outputs": [],
   "source": [
    "fs = fsspec.filesystem('s3',anon=True)\n",
    "all_files = fs.glob(f's3://imos-data-pixeldrill/IMOS/SRS/SST/ghrsst/L3S-1d/ngt/*/*.nc')\n",
    "len(all_files)"
   ]
  },
  {
   "cell_type": "code",
   "execution_count": null,
   "metadata": {},
   "outputs": [],
   "source": [
    "from fsspec_reference_maker.hdf import SingleHdf5ToZarr\n",
    "import os\n",
    "refdir = \"./refs/\"\n",
    "os.makedirs(refdir, exist_ok = True)"
   ]
  },
  {
   "cell_type": "code",
   "execution_count": null,
   "metadata": {},
   "outputs": [],
   "source": [
    "def save_refs(s3_fn):\n",
    "    s3_fn = 's3://' + s3_fn\n",
    "    references = refdir + os.path.basename(s3_fn).replace('.nc','.json')\n",
    "    \n",
    "    if not os.path.exists(references):        \n",
    "        with fsspec.open(s3_fn, \n",
    "                         anon=True, \n",
    "                         mode='rb', \n",
    "                         default_fill_cache=False, \n",
    "                         default_cache_type='none') as f:\n",
    "            h5chunks = SingleHdf5ToZarr(f, s3_fn, True)\n",
    "            json_str = h5chunks.translate()\n",
    "\n",
    "        with open(references,'wt') as f:\n",
    "            json.dump(json_str,f,indent=4)\n",
    "\n",
    "    return references"
   ]
  },
  {
   "cell_type": "code",
   "execution_count": null,
   "metadata": {},
   "outputs": [],
   "source": [
    "b = db.from_sequence(all_files,npartitions=200)\n",
    "references = b.map(save_refs)"
   ]
  },
  {
   "cell_type": "code",
   "execution_count": null,
   "metadata": {},
   "outputs": [],
   "source": [
    "# load profilers\n",
    "from dask.diagnostics import Profiler, ResourceProfiler, CacheProfiler\n",
    "\n",
    "with dask.config.set(scheduler='threads'):\n",
    "    with ProgressBar():\n",
    "        with Profiler() as prof, ResourceProfiler() as rprof, CacheProfiler() as cprof:\n",
    "            references.compute()"
   ]
  },
  {
   "cell_type": "code",
   "execution_count": null,
   "metadata": {},
   "outputs": [],
   "source": [
    "from dask.diagnostics import visualize\n",
    "visualize([prof, rprof, cprof])"
   ]
  }
 ],
 "metadata": {
  "kernelspec": {
   "display_name": "conda_mxnet_latest_p37",
   "language": "python",
   "name": "conda_mxnet_latest_p37"
  },
  "language_info": {
   "codemirror_mode": {
    "name": "ipython",
    "version": 3
   },
   "file_extension": ".py",
   "mimetype": "text/x-python",
   "name": "python",
   "nbconvert_exporter": "python",
   "pygments_lexer": "ipython3",
   "version": "3.7.10"
  }
 },
 "nbformat": 4,
 "nbformat_minor": 4
}
