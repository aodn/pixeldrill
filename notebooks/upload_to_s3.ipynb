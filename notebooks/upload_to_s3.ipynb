{
 "cells": [
  {
   "cell_type": "markdown",
   "id": "e1b131e5",
   "metadata": {},
   "source": [
    "# Notebook to create aggregated reference files (json) into monthly or yearly zarrs"
   ]
  },
  {
   "cell_type": "code",
   "execution_count": 4,
   "id": "a761a48d",
   "metadata": {},
   "outputs": [],
   "source": [
    "import sys\n",
    "import fsspec\n",
    "import os, posixpath, glob\n",
    "import dask\n",
    "from dask.distributed import Client\n",
    "from dask.diagnostics import ProgressBar"
   ]
  },
  {
   "cell_type": "code",
   "execution_count": 5,
   "id": "701ee6fa",
   "metadata": {},
   "outputs": [],
   "source": [
    "BUCKET = 'imos-data-pixeldrill'\n",
    "S3_PREFIX = 'refs/' \n",
    "SOURCE_DIR = './refs'"
   ]
  },
  {
   "cell_type": "code",
   "execution_count": 6,
   "id": "0c3a4ae1",
   "metadata": {},
   "outputs": [
    {
     "data": {
      "text/html": [
       "<table style=\"border: 2px solid white;\">\n",
       "<tr>\n",
       "<td style=\"vertical-align: top; border: 0px solid white\">\n",
       "<h3 style=\"text-align: left;\">Client</h3>\n",
       "<ul style=\"text-align: left; list-style: none; margin: 0; padding: 0;\">\n",
       "  <li><b>Scheduler: </b>tcp://127.0.0.1:42377</li>\n",
       "  <li><b>Dashboard: </b><a href='http://127.0.0.1:8787/status' target='_blank'>http://127.0.0.1:8787/status</a></li>\n",
       "</ul>\n",
       "</td>\n",
       "<td style=\"vertical-align: top; border: 0px solid white\">\n",
       "<h3 style=\"text-align: left;\">Cluster</h3>\n",
       "<ul style=\"text-align: left; list-style:none; margin: 0; padding: 0;\">\n",
       "  <li><b>Workers: </b>2</li>\n",
       "  <li><b>Cores: </b>2</li>\n",
       "  <li><b>Memory: </b>16.51 GB</li>\n",
       "</ul>\n",
       "</td>\n",
       "</tr>\n",
       "</table>"
      ],
      "text/plain": [
       "<Client: 'tcp://127.0.0.1:42377' processes=2 threads=2, memory=16.51 GB>"
      ]
     },
     "metadata": {},
     "output_type": "display_data"
    }
   ],
   "source": [
    "client = Client()\n",
    "display(client)"
   ]
  },
  {
   "cell_type": "code",
   "execution_count": 7,
   "id": "559c5a55",
   "metadata": {},
   "outputs": [],
   "source": [
    "def upload_to_s3(f,urlpath):\n",
    "    fs = fsspec.filesystem('s3',profile='default')\n",
    "    fn = os.path.basename(f)\n",
    "    fs.put_file(f,urlpath + fn)\n",
    "    return \"Success\""
   ]
  },
  {
   "cell_type": "code",
   "execution_count": 20,
   "id": "2f9ec303",
   "metadata": {},
   "outputs": [
    {
     "name": "stdout",
     "output_type": "stream",
     "text": [
      "CPU times: user 45.4 ms, sys: 11.5 ms, total: 56.9 ms\n",
      "Wall time: 56.6 ms\n"
     ]
    }
   ],
   "source": [
    "%%time\n",
    "files = sorted(glob.glob(os.path.join(SOURCE_DIR,'*.json')))\n",
    "full_prefix = posixpath.join(BUCKET,S3_PREFIX)\n",
    "\n",
    "result = client.map(upload_to_s3, files, full_prefix)"
   ]
  },
  {
   "cell_type": "code",
   "execution_count": null,
   "id": "f4b8841c",
   "metadata": {},
   "outputs": [],
   "source": []
  }
 ],
 "metadata": {
  "kernelspec": {
   "display_name": "conda_mxnet_latest_p37",
   "language": "python",
   "name": "conda_mxnet_latest_p37"
  },
  "language_info": {
   "codemirror_mode": {
    "name": "ipython",
    "version": 3
   },
   "file_extension": ".py",
   "mimetype": "text/x-python",
   "name": "python",
   "nbconvert_exporter": "python",
   "pygments_lexer": "ipython3",
   "version": "3.7.10"
  }
 },
 "nbformat": 4,
 "nbformat_minor": 5
}
