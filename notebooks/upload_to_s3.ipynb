{
 "cells": [
  {
   "cell_type": "markdown",
   "id": "8cb58522",
   "metadata": {},
   "source": [
    "# Upload files from notebook to s3"
   ]
  },
  {
   "cell_type": "code",
   "execution_count": null,
   "id": "69712345",
   "metadata": {},
   "outputs": [],
   "source": [
    "import sys\n",
    "import fsspec\n",
    "import os, posixpath, glob\n",
    "import dask\n",
    "from dask.distributed import Client"
   ]
  },
  {
   "cell_type": "code",
   "execution_count": null,
   "id": "dc5e3832",
   "metadata": {},
   "outputs": [],
   "source": [
    "BUCKET = 'imos-data-pixeldrill'\n",
    "S3_PREFIX = 'refs/' \n",
    "SOURCE_DIR = './refs'"
   ]
  },
  {
   "cell_type": "code",
   "execution_count": null,
   "id": "16c92401",
   "metadata": {},
   "outputs": [],
   "source": [
    "client = Client()\n",
    "display(client)"
   ]
  },
  {
   "cell_type": "code",
   "execution_count": null,
   "id": "b7c18d47",
   "metadata": {},
   "outputs": [],
   "source": [
    "def upload_to_s3(f,urlpath):\n",
    "    fs = fsspec.filesystem('s3',profile='default')\n",
    "    fn = os.path.basename(f)\n",
    "    fs.put_file(f,urlpath + fn)\n",
    "    return \"Success\""
   ]
  },
  {
   "cell_type": "code",
   "execution_count": null,
   "id": "10b92a88",
   "metadata": {},
   "outputs": [],
   "source": [
    "%%time\n",
    "files = sorted(glob.glob(os.path.join(SOURCE_DIR,'*.json')))\n",
    "full_prefix = posixpath.join(BUCKET,S3_PREFIX)\n",
    "\n",
    "result = client.map(upload_to_s3, files, full_prefix)"
   ]
  },
  {
   "cell_type": "code",
   "execution_count": null,
   "id": "671d8bfd",
   "metadata": {},
   "outputs": [],
   "source": []
  }
 ],
 "metadata": {
  "kernelspec": {
   "display_name": "conda_mxnet_latest_p37",
   "language": "python",
   "name": "conda_mxnet_latest_p37"
  },
  "language_info": {
   "codemirror_mode": {
    "name": "ipython",
    "version": 3
   },
   "file_extension": ".py",
   "mimetype": "text/x-python",
   "name": "python",
   "nbconvert_exporter": "python",
   "pygments_lexer": "ipython3",
   "version": "3.7.10"
  }
 },
 "nbformat": 4,
 "nbformat_minor": 5
}
